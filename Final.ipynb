{
  "nbformat": 4,
  "nbformat_minor": 0,
  "metadata": {
    "colab": {
      "name": "Final.ipynb",
      "provenance": [],
      "collapsed_sections": []
    },
    "kernelspec": {
      "name": "python3",
      "display_name": "Python 3"
    },
    "language_info": {
      "name": "python"
    }
  },
  "cells": [
    {
      "cell_type": "code",
      "metadata": {
        "id": "i04uWtkYyvBX"
      },
      "source": [
        "# import the required packages\n",
        "import numpy as np\n",
        "from sklearn.metrics import mean_absolute_error,median_absolute_error,mean_squared_log_error\n",
        "import keras\n",
        "from keras.models import load_model"
      ],
      "execution_count": null,
      "outputs": []
    },
    {
      "cell_type": "code",
      "metadata": {
        "id": "K8PEqKtAwoUx"
      },
      "source": [
        ""
      ],
      "execution_count": null,
      "outputs": []
    },
    {
      "cell_type": "code",
      "metadata": {
        "colab": {
          "base_uri": "https://localhost:8080/"
        },
        "id": "kVrBai5MyK7C",
        "outputId": "bbe6adbe-5684-4970-f7ba-ff9bf6f832f7"
      },
      "source": [
        "# unzip the model weights folder for aquifer\n",
        "!unzip model_aquifer.zip"
      ],
      "execution_count": null,
      "outputs": [
        {
          "output_type": "stream",
          "text": [
            "Archive:  model_aquifer.zip\n",
            "  End-of-central-directory signature not found.  Either this file is not\n",
            "  a zipfile, or it constitutes one disk of a multi-part archive.  In the\n",
            "  latter case the central directory and zipfile comment will be found on\n",
            "  the last disk(s) of this archive.\n",
            "unzip:  cannot find zipfile directory in one of model_aquifer.zip or\n",
            "        model_aquifer.zip.zip, and cannot find model_aquifer.zip.ZIP, period.\n"
          ],
          "name": "stdout"
        }
      ]
    },
    {
      "cell_type": "code",
      "metadata": {
        "colab": {
          "base_uri": "https://localhost:8080/"
        },
        "id": "PnEpl7FnlwKV",
        "outputId": "a00e47fd-573f-4dad-94b3-6d0bd87e6ecb"
      },
      "source": [
        "# unzip the model weights folder for lakes\n",
        "!unzip model_lakes.zip"
      ],
      "execution_count": null,
      "outputs": [
        {
          "output_type": "stream",
          "text": [
            "Archive:  model_lakes.zip\n",
            "   creating: content/model_lakes_save/\n",
            "  inflating: content/model_lakes_save/weights.h5  \n"
          ],
          "name": "stdout"
        }
      ]
    },
    {
      "cell_type": "code",
      "metadata": {
        "colab": {
          "base_uri": "https://localhost:8080/"
        },
        "id": "508YLpz0lv_C",
        "outputId": "4d41b7e9-95a2-47ba-fa94-b6a9ad6ff213"
      },
      "source": [
        "# unzip the model weights folder for rivers\n",
        "!unzip model_rivers.zip"
      ],
      "execution_count": null,
      "outputs": [
        {
          "output_type": "stream",
          "text": [
            "Archive:  model_rivers.zip\n",
            "   creating: content/model_rivers_save/\n",
            "  inflating: content/model_rivers_save/weights.h5  \n"
          ],
          "name": "stdout"
        }
      ]
    },
    {
      "cell_type": "code",
      "metadata": {
        "colab": {
          "base_uri": "https://localhost:8080/"
        },
        "id": "7zao4oYElvc8",
        "outputId": "e5abd963-c573-4051-f2b5-fb554c4b7b80"
      },
      "source": [
        "# unzip the model weights folder for springs\n",
        "!unzip model_springs.zip"
      ],
      "execution_count": null,
      "outputs": [
        {
          "output_type": "stream",
          "text": [
            "Archive:  model_springs.zip\n",
            "   creating: content/model_springs_save/\n",
            "  inflating: content/model_springs_save/weights.h5  \n"
          ],
          "name": "stdout"
        }
      ]
    },
    {
      "cell_type": "code",
      "metadata": {
        "id": "u4-dCWratlu-"
      },
      "source": [
        "def final_fun_1(X):\n",
        "    '''\n",
        "    Function takes single data point input and returns the prediction as per the relevant model for the waterbody\n",
        "    X is in the format of an array with the values in order as Mean_Rainfall, Mean_Temp, Volume, Depth, Hydrometry, Flow_Rate,Lake_Level, waterbodytype\n",
        "    '''\n",
        "    # store the water body type in a variable\n",
        "    wb = X[-1]\n",
        "    # remove the last element i.e. the waterbody type from the input array\n",
        "    x = np.delete(X,-1).astype(float)\n",
        "    \n",
        "    # the relevant model to loaded is found by using the values and the water body type entered in the input\n",
        "    if list(np.isnan(x)) == [False, False, False, True, False, True, True] and wb.lower()=='aquifer' :\n",
        "\n",
        "      model = load_model('/content/content/model_aquifer_save/weights.h5', compile=False)\n",
        "      \n",
        "\n",
        "    elif list(np.isnan(x)) == [False, False, True, True, True, True, True] and wb.lower()=='lake':\n",
        "\n",
        "      model = load_model('/content/content/model_lakes_save/weights.h5', compile=False)\n",
        "\n",
        "    \n",
        "    elif list(np.isnan(x)) == [False, False, True, True, True, True, True] and wb.lower()=='river':\n",
        "\n",
        "      model = load_model('/content/content/model_rivers_save/weights.h5', compile=False)\n",
        "\n",
        "    elif list(np.isnan(x)) == [False, False, True, False, True, True, True] and wb.lower()=='spring':\n",
        "      model = load_model('/content/content/model_springs_save/weights.h5', compile=False)\n",
        "      \n",
        "\n",
        "    else:\n",
        "        return 'invalid entries'\n",
        "    \n",
        "    # take predictions using the correct model\n",
        "    pred = model.predict(x[~np.isnan(x)].reshape(1,-1))\n",
        "\n",
        "    #return the predicted value of output as per the waterbody model used\n",
        "    return pred\n",
        "      "
      ],
      "execution_count": null,
      "outputs": []
    },
    {
      "cell_type": "code",
      "metadata": {
        "id": "Ktm1IPtCwsyE"
      },
      "source": [
        "def final_fun_2(X,y):\n",
        "    '''\n",
        "    Function takes single data point input and its correct result value\n",
        "    and returns the errors (median absolute error and root mean squared log error) as per the relevant model for the waterbody\n",
        "    X is in the format of an array with the values in order as Mean_Rainfall, Mean_Temp, Volume, Depth, Hydrometry, Flow_Rate,Lake_Level, waterbodytype\n",
        "    y is in the format of an array having the length equal to the number of feature values predicted\n",
        "    '''\n",
        "    # store the water body type in a variable\n",
        "    wb = X[-1]\n",
        "    # remove the last element i.e. the waterbody type from the input array\n",
        "    x = np.delete(X,-1).astype(float)\n",
        "    \n",
        "    # the relevant model to loaded is found by using the values and the length of y entered in the input\n",
        "    if list(np.isnan(x)) == [False, False, False, True, False, True, True]  and len(y)==1:\n",
        "\n",
        "      model = load_model('/content/content/model_aquifer_save/weights.h5', compile=False)\n",
        "\n",
        "    elif list(np.isnan(x)) == [False, False, True, True, True, True, True] and len(y)==2:\n",
        "\n",
        "      model = load_model('/content/content/model_lakes_save/weights.h5', compile=False)\n",
        "\n",
        "      y = y.reshape(1,-1)\n",
        "\n",
        "    \n",
        "    elif list(np.isnan(x)) == [False, False, True, True, True, True, True] and len(y)==1:\n",
        "\n",
        "      model = load_model('/content/content/model_rivers_save/weights.h5', compile=False)\n",
        "\n",
        "    elif list(np.isnan(x)) == [False, False, True, False, True, True, True]  and len(y)==1:\n",
        "      model = load_model('/content/content/model_springs_save/weights.h5', compile=False)\n",
        "\n",
        "    else:\n",
        "        return 'invalid entries'\n",
        "\n",
        "    # take predictions using the correct model\n",
        "    pred = model.predict(x[~np.isnan(x)].reshape(1,-1))\n",
        "\n",
        "    # find median absolute error\n",
        "    mae = median_absolute_error(y,pred)\n",
        "\n",
        "    # find root mean square log error\n",
        "    rmsle = np.sqrt(mean_squared_log_error(np.abs(y),np.abs(pred)))\n",
        "\n",
        "    #return the error metrics mae and rmsle observed between true and predicted values\n",
        "    return mae,rmsle\n",
        "\n",
        "      "
      ],
      "execution_count": null,
      "outputs": []
    },
    {
      "cell_type": "code",
      "metadata": {
        "id": "HYHdhf7ILOdj"
      },
      "source": [
        "# the order of feature values in the data point is as below\n",
        "# Mean_Rainfall, Mean_Temp, Volume, Depth, Hydrometry, Flow_Rate,Lake_Level, waterbodytype\n",
        "X = np.array([0.076309,\t0.169289, float(\"NaN\"),\t0.416992\t,float(\"NaN\"),float(\"NaN\"),float(\"NaN\"),'spring'])\n",
        "\n",
        "# the true target value\n",
        "y = np.array([0.530379])"
      ],
      "execution_count": null,
      "outputs": []
    },
    {
      "cell_type": "code",
      "metadata": {
        "colab": {
          "base_uri": "https://localhost:8080/"
        },
        "id": "axwmEuxfuV1E",
        "outputId": "8fa0dba6-30ce-4c53-cd33-c971f339ea8a"
      },
      "source": [
        "# function call to get predicted values for an input datapoint\n",
        "final_fun_1(X)"
      ],
      "execution_count": null,
      "outputs": [
        {
          "output_type": "execute_result",
          "data": {
            "text/plain": [
              "array([[0.55952]], dtype=float32)"
            ]
          },
          "metadata": {
            "tags": []
          },
          "execution_count": 27
        }
      ]
    },
    {
      "cell_type": "code",
      "metadata": {
        "colab": {
          "base_uri": "https://localhost:8080/"
        },
        "id": "WmZj7ov6TYOO",
        "outputId": "0e2485e0-5343-4140-90a5-a1213c770f7b"
      },
      "source": [
        "# function call to get error metrics for an input datapoint and true value\n",
        "final_fun_2(X,y)"
      ],
      "execution_count": null,
      "outputs": [
        {
          "output_type": "execute_result",
          "data": {
            "text/plain": [
              "(0.029141006179809525, 0.018862660836866774)"
            ]
          },
          "metadata": {
            "tags": []
          },
          "execution_count": 25
        }
      ]
    },
    {
      "cell_type": "code",
      "metadata": {
        "id": "jidbn5HKodsI"
      },
      "source": [
        ""
      ],
      "execution_count": null,
      "outputs": []
    }
  ]
}